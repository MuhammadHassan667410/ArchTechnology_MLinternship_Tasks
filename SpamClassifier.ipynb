{
  "cells": [
    {
      "cell_type": "markdown",
      "metadata": {
        "id": "view-in-github",
        "colab_type": "text"
      },
      "source": [
        "<a href=\"https://colab.research.google.com/github/MuhammadHassan667410/ArchTechnology_MLinternship_Tasks/blob/main/SpamClassifier.ipynb\" target=\"_parent\"><img src=\"https://colab.research.google.com/assets/colab-badge.svg\" alt=\"Open In Colab\"/></a>"
      ]
    },
    {
      "cell_type": "code",
      "execution_count": null,
      "id": "cb407dd2-f3ac-4b9a-a6c0-c8757cc38b85",
      "metadata": {
        "id": "cb407dd2-f3ac-4b9a-a6c0-c8757cc38b85"
      },
      "outputs": [],
      "source": [
        "import pandas as pd\n",
        "import string\n",
        "import re\n",
        "from sklearn.model_selection import train_test_split # type: ignore\n",
        "from sklearn.pipeline import Pipeline\n",
        "from sklearn.feature_extraction.text import TfidfVectorizer\n",
        "from sklearn.linear_model import LogisticRegression\n",
        "from sklearn.naive_bayes import MultinomialNB\n",
        "from sklearn.svm import LinearSVC\n",
        "from sklearn.ensemble import RandomForestClassifier\n",
        "from sklearn.metrics import accuracy_score, classification_report, confusion_matrix, f1_score # type: ignore\n",
        "import seaborn as sns\n",
        "import matplotlib.pyplot as plt\n",
        "import joblib"
      ]
    },
    {
      "cell_type": "code",
      "execution_count": null,
      "id": "688b84c9-864a-4135-b2d2-6c53ec2c7e3a",
      "metadata": {
        "id": "688b84c9-864a-4135-b2d2-6c53ec2c7e3a"
      },
      "outputs": [],
      "source": [
        "df = pd.read_csv(\"spam.csv\", encoding='latin-1')[['Category', 'Message']] # type: ignore\n",
        "df['Category'] = df['Category'].map({'ham': 0, 'spam': 1})"
      ]
    },
    {
      "cell_type": "code",
      "execution_count": null,
      "id": "5e72d801-19c1-4397-b6af-13b150484fd9",
      "metadata": {
        "id": "5e72d801-19c1-4397-b6af-13b150484fd9"
      },
      "outputs": [],
      "source": [
        "\n",
        "def clean_text(text): # type: ignore\n",
        "    text = text.lower() # type: ignore\n",
        "    text = re.sub(r'\\d+', '', text) # type: ignore\n",
        "    text = text.translate(str.maketrans('', '', string.punctuation))\n",
        "    text = re.sub(r'\\s+', ' ', text).strip()\n",
        "    return text"
      ]
    },
    {
      "cell_type": "code",
      "execution_count": null,
      "id": "01c490b7-6fc0-4d10-bebd-233417b895da",
      "metadata": {
        "id": "01c490b7-6fc0-4d10-bebd-233417b895da"
      },
      "outputs": [],
      "source": [
        "\n",
        "df['clean_msg'] = df['Message'].apply(clean_text) # type: ignore"
      ]
    },
    {
      "cell_type": "code",
      "execution_count": null,
      "id": "1d45e8cc-788a-4450-b276-c5d2a403dbdb",
      "metadata": {
        "id": "1d45e8cc-788a-4450-b276-c5d2a403dbdb"
      },
      "outputs": [],
      "source": [
        "# Split dataset\n",
        "X = df['clean_msg']\n",
        "y = df['Category']\n",
        "X_train, X_test, y_train, y_test = train_test_split(X, y, test_size=0.2, random_state=42)"
      ]
    },
    {
      "cell_type": "code",
      "execution_count": null,
      "id": "35b2b56f-fb1d-4cbc-86ce-cf43351070e4",
      "metadata": {
        "id": "35b2b56f-fb1d-4cbc-86ce-cf43351070e4"
      },
      "outputs": [],
      "source": [
        "models = { # type: ignore\n",
        "    'Logistic Regression': LogisticRegression(solver='liblinear'),\n",
        "    'Naive Bayes': MultinomialNB(),\n",
        "    'SVM': LinearSVC(),\n",
        "    'Random Forest': RandomForestClassifier(n_estimators=100, random_state=42)\n",
        "}"
      ]
    },
    {
      "cell_type": "code",
      "execution_count": null,
      "id": "f856768b-1532-4297-a738-694b26ef76be",
      "metadata": {
        "id": "f856768b-1532-4297-a738-694b26ef76be",
        "outputId": "c73e95a3-fe21-422a-ebd9-6486eadf7156"
      },
      "outputs": [
        {
          "name": "stdout",
          "output_type": "stream",
          "text": [
            "🔹 Logistic Regression 🔹\n",
            "Accuracy: 0.9632\n",
            "F1 Score: 0.8405\n",
            "Classification Report:\n",
            "               precision    recall  f1-score   support\n",
            "\n",
            "           0       0.96      1.00      0.98       966\n",
            "           1       1.00      0.72      0.84       149\n",
            "\n",
            "    accuracy                           0.96      1115\n",
            "   macro avg       0.98      0.86      0.91      1115\n",
            "weighted avg       0.96      0.96      0.96      1115\n",
            "\n",
            "============================================================\n",
            "🔹 Naive Bayes 🔹\n",
            "Accuracy: 0.9668\n",
            "F1 Score: 0.8582\n",
            "Classification Report:\n",
            "               precision    recall  f1-score   support\n",
            "\n",
            "           0       0.96      1.00      0.98       966\n",
            "           1       1.00      0.75      0.86       149\n",
            "\n",
            "    accuracy                           0.97      1115\n",
            "   macro avg       0.98      0.88      0.92      1115\n",
            "weighted avg       0.97      0.97      0.96      1115\n",
            "\n",
            "============================================================\n",
            "🔹 SVM 🔹\n",
            "Accuracy: 0.9892\n",
            "F1 Score: 0.9583\n",
            "Classification Report:\n",
            "               precision    recall  f1-score   support\n",
            "\n",
            "           0       0.99      1.00      0.99       966\n",
            "           1       0.99      0.93      0.96       149\n",
            "\n",
            "    accuracy                           0.99      1115\n",
            "   macro avg       0.99      0.96      0.98      1115\n",
            "weighted avg       0.99      0.99      0.99      1115\n",
            "\n",
            "============================================================\n",
            "🔹 Random Forest 🔹\n",
            "Accuracy: 0.9758\n",
            "F1 Score: 0.9004\n",
            "Classification Report:\n",
            "               precision    recall  f1-score   support\n",
            "\n",
            "           0       0.97      1.00      0.99       966\n",
            "           1       1.00      0.82      0.90       149\n",
            "\n",
            "    accuracy                           0.98      1115\n",
            "   macro avg       0.99      0.91      0.94      1115\n",
            "weighted avg       0.98      0.98      0.97      1115\n",
            "\n",
            "============================================================\n"
          ]
        }
      ],
      "source": [
        "results = []\n",
        "\n",
        "for name, model in models.items(): # type: ignore\n",
        "    pipeline = Pipeline([\n",
        "        ('tfidf', TfidfVectorizer(stop_words='english')),\n",
        "        ('clf', model)\n",
        "    ])\n",
        "    pipeline.fit(X_train, y_train) # type: ignore\n",
        "    y_pred = pipeline.predict(X_test) # type: ignore\n",
        "\n",
        "    acc = accuracy_score(y_test, y_pred) # type: ignore\n",
        "    f1 = f1_score(y_test, y_pred) # type: ignore\n",
        "\n",
        "    print(f\"🔹 {name} 🔹\")\n",
        "    print(f\"Accuracy: {acc:.4f}\")\n",
        "    print(f\"F1 Score: {f1:.4f}\")\n",
        "    print(\"Classification Report:\\n\", classification_report(y_test, y_pred)) # type: ignore\n",
        "    print(\"=\"*60)\n",
        "\n",
        "    results.append((name, acc, f1, pipeline, y_pred))"
      ]
    },
    {
      "cell_type": "code",
      "execution_count": null,
      "id": "823a5937-5733-4a9c-afeb-bf48ea8698aa",
      "metadata": {
        "id": "823a5937-5733-4a9c-afeb-bf48ea8698aa"
      },
      "outputs": [],
      "source": [
        "# Choose best model by F1 Score\n",
        "best_model = max(results, key=lambda x: x[2]) # type: ignore\n",
        "best_name, best_acc, best_f1, best_pipeline, best_y_pred = best_model"
      ]
    },
    {
      "cell_type": "code",
      "execution_count": null,
      "id": "15732819-567f-4a7a-8e9a-bd9d8677aee1",
      "metadata": {
        "id": "15732819-567f-4a7a-8e9a-bd9d8677aee1",
        "outputId": "1ca6a689-a53e-43a1-9030-06a9ce60c905"
      },
      "outputs": [
        {
          "name": "stdout",
          "output_type": "stream",
          "text": [
            "\n",
            "✅ Best Model: SVM | Accuracy: 0.9892 | F1 Score: 0.9583\n"
          ]
        }
      ],
      "source": [
        "print(f\"\\n✅ Best Model: {best_name} | Accuracy: {best_acc:.4f} | F1 Score: {best_f1:.4f}\")"
      ]
    },
    {
      "cell_type": "code",
      "execution_count": null,
      "id": "dedcc18d-cbf7-468d-94f8-32e5429ab7f1",
      "metadata": {
        "id": "dedcc18d-cbf7-468d-94f8-32e5429ab7f1",
        "outputId": "6caf2000-a565-4074-f92b-7b533263ebd2"
      },
      "outputs": [
        {
          "data": {
            "text/plain": [
              "Text(50.722222222222214, 0.5, 'Actual')"
            ]
          },
          "execution_count": 12,
          "metadata": {},
          "output_type": "execute_result"
        },
        {
          "data": {
            "image/png": "[encoded data removed]",
            "text/plain": [
              "<Figure size 640x480 with 2 Axes>"
            ]
          },
          "metadata": {},
          "output_type": "display_data"
        }
      ],
      "source": [
        "# Plot confusion matrix for best model\n",
        "cm = confusion_matrix(y_test, best_y_pred)# type: ignore\n",
        "sns.heatmap(cm, annot=True, fmt='d', cmap='Greens') # type: ignore\n",
        "plt.title(f\"Confusion Matrix: {best_name}\") # type: ignore\n",
        "plt.xlabel(\"Predicted\")# type: ignore\n",
        "plt.ylabel(\"Actual\")# type: ignore\n"
      ]
    },
    {
      "cell_type": "code",
      "execution_count": null,
      "id": "ca88581d-a2e2-4650-9aa7-bbe80798163e",
      "metadata": {
        "id": "ca88581d-a2e2-4650-9aa7-bbe80798163e",
        "outputId": "b29469ea-36b9-49a2-ae3c-030d2f051f45"
      },
      "outputs": [
        {
          "name": "stdout",
          "output_type": "stream",
          "text": [
            "📦 Saved best model as 'best_spam_model.pkl'\n"
          ]
        }
      ],
      "source": [
        "joblib.dump(best_pipeline, \"best_spam_model.pkl\")# type: ignore\n",
        "print(f\"📦 Saved best model as 'best_spam_model.pkl'\")"
      ]
    },
    {
      "cell_type": "code",
      "execution_count": null,
      "id": "198f88a4-b92f-45ad-a6da-5ddca181afa4",
      "metadata": {
        "id": "198f88a4-b92f-45ad-a6da-5ddca181afa4"
      },
      "outputs": [],
      "source": []
    }
  ],
  "metadata": {
    "kernelspec": {
      "display_name": "Python 3 (ipykernel)",
      "language": "python",
      "name": "python3"
    },
    "language_info": {
      "codemirror_mode": {
        "name": "ipython",
        "version": 3
      },
      "file_extension": ".py",
      "mimetype": "text/x-python",
      "name": "python",
      "nbconvert_exporter": "python",
      "pygments_lexer": "ipython3",
      "version": "3.13.5"
    },
    "colab": {
      "provenance": [],
      "include_colab_link": true
    }
  },
  "nbformat": 4,
  "nbformat_minor": 5
}